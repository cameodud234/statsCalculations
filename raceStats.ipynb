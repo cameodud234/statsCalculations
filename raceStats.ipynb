{
 "cells": [
  {
   "cell_type": "code",
   "execution_count": 6,
   "metadata": {},
   "outputs": [],
   "source": [
    "import pandas\n",
    "import numpy"
   ]
  },
  {
   "cell_type": "code",
   "execution_count": 44,
   "metadata": {},
   "outputs": [
    {
     "name": "stdout",
     "output_type": "stream",
     "text": [
      "hello\n"
     ]
    }
   ],
   "source": [
    "name = '\"hello\"'\n",
    "print(name.strip('\"'))"
   ]
  },
  {
   "cell_type": "code",
   "execution_count": 79,
   "metadata": {},
   "outputs": [],
   "source": [
    "asthmaDataFile = open(\"./data/AsthmaData.csv\", \"r\")\n",
    "\n",
    "lines = asthmaDataFile.readlines()\n",
    "states = []\n",
    "for line in lines:\n",
    "    current_line = line.split(\",\")\n",
    "    first_element = current_line[0]\n",
    "    first_element.strip(' ')\n",
    "    if first_element != '':\n",
    "        states.append(first_element)"
   ]
  },
  {
   "cell_type": "code",
   "execution_count": 83,
   "metadata": {},
   "outputs": [
    {
     "name": "stdout",
     "output_type": "stream",
     "text": [
      "['\\ufeffTotal', 'California', 'Connecticut', 'Florida', 'Georgia', 'Hawaii', 'Illinois', 'Indiana', 'Maine', 'Massachusetts', 'Michigan', 'Minnesota', 'Mississippi', 'Missouri', 'Montana', 'New Hampshire', 'New Mexico', 'New York', 'Ohio', 'Oregon', 'Pennsylvania', 'Puerto Rico', 'Rhode Island', 'Utah', 'Vermont', 'Wisconsin']\n"
     ]
    }
   ],
   "source": [
    "states\n",
    "print(states)"
   ]
  }
 ],
 "metadata": {
  "kernelspec": {
   "display_name": "Calculations",
   "language": "python",
   "name": "python3"
  },
  "language_info": {
   "codemirror_mode": {
    "name": "ipython",
    "version": 3
   },
   "file_extension": ".py",
   "mimetype": "text/x-python",
   "name": "python",
   "nbconvert_exporter": "python",
   "pygments_lexer": "ipython3",
   "version": "3.9.16"
  },
  "orig_nbformat": 4
 },
 "nbformat": 4,
 "nbformat_minor": 2
}
