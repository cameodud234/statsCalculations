{
 "cells": [
  {
   "cell_type": "code",
   "execution_count": 2,
   "metadata": {},
   "outputs": [],
   "source": [
    "import scipy.stats as scipyStats\n",
    "import numpy as np\n",
    "import math"
   ]
  },
  {
   "cell_type": "code",
   "execution_count": 7,
   "metadata": {},
   "outputs": [
    {
     "name": "stdout",
     "output_type": "stream",
     "text": [
      "0.45820433436532504\n"
     ]
    }
   ],
   "source": [
    "#hypergeo\n",
    "N = 19\n",
    "x = 1\n",
    "k = 9\n",
    "n = 3\n",
    "\n",
    "# p(k, M, n, N) == p(x, N, k, n)\n",
    "\n",
    "total = 100\n",
    "part = scipyStats.hypergeom.cdf(x, N, k, n) * 100\n",
    "\n",
    "print((total - part) / 100)"
   ]
  },
  {
   "cell_type": "code",
   "execution_count": 6,
   "metadata": {},
   "outputs": [
    {
     "name": "stdout",
     "output_type": "stream",
     "text": [
      "0.7458134171671\n"
     ]
    }
   ],
   "source": [
    "# bin\n",
    "x = 0\n",
    "n = 13\n",
    "p = 0.10\n",
    "\n",
    "total = 100\n",
    "part = scipyStats.binom.cdf(x, n, p) * 100\n",
    "\n",
    "print((total - part) / 100)"
   ]
  },
  {
   "cell_type": "code",
   "execution_count": 9,
   "metadata": {},
   "outputs": [
    {
     "name": "stdout",
     "output_type": "stream",
     "text": [
      "0.3711630648201266\n"
     ]
    }
   ],
   "source": [
    "# poisson\n",
    "\n",
    "x = 4\n",
    "mu = 4\n",
    "\n",
    "total = 100\n",
    "\n",
    "part = scipyStats.poisson.cdf(x, mu) * 100\n",
    "\n",
    "print((total - part) / 100)"
   ]
  },
  {
   "cell_type": "code",
   "execution_count": 8,
   "metadata": {},
   "outputs": [
    {
     "name": "stdout",
     "output_type": "stream",
     "text": [
      "2.4099999999999966\n"
     ]
    }
   ],
   "source": [
    "x = [3, 4, 5, 6, 7, 8]\n",
    "probs = [0.1, 0.1, 0.3, 0.2, 0.1, 0.2]\n",
    "\n",
    "x = np.array(x)\n",
    "probs = np.array(probs)\n",
    "\n",
    "x_2 = x * x\n",
    "\n",
    "var = x_2.dot(probs) - (x.dot(probs)**2)\n",
    "print(var)\n",
    "# print(math.sqrt(var))"
   ]
  },
  {
   "cell_type": "code",
   "execution_count": 18,
   "metadata": {},
   "outputs": [
    {
     "name": "stdout",
     "output_type": "stream",
     "text": [
      "1468687500.0\n",
      "873960000.0\n"
     ]
    }
   ],
   "source": [
    "x1 = [-5000, 50000, 80000]\n",
    "probs1 = [0.63, 0.09, 0.28]\n",
    "\n",
    "x1 = np.array(x1)\n",
    "probs1 = np.array(probs1)\n",
    "x_2_1 = x1 * x1\n",
    "\n",
    "# print(x1.dot(probs1))\n",
    "\n",
    "x2 = [-25000, 35000, 40000]\n",
    "probs2 = [0.35, 0.41, 0.24]\n",
    "\n",
    "x2 = np.array(x2)\n",
    "probs2 = np.array(probs2)\n",
    "x_2_2 = x2 * x2\n",
    "\n",
    "# print(x2.dot(probs2))\n",
    "var1 = x_2_1.dot(probs1) - (x1.dot(probs1)**2)\n",
    "var2 = x_2_2.dot(probs2) - (x2.dot(probs2)**2)\n",
    "print(var1)\n",
    "print(var2)"
   ]
  },
  {
   "cell_type": "code",
   "execution_count": 8,
   "metadata": {},
   "outputs": [
    {
     "name": "stdout",
     "output_type": "stream",
     "text": [
      "891\n"
     ]
    }
   ],
   "source": [
    "def f(x):\n",
    "    return 81 * x\n",
    "\n",
    "def countNumbersBetween(startDigit, endDigit):\n",
    "    count = 1\n",
    "    number = f(count)\n",
    "    start_number = number\n",
    "    last_number = number\n",
    "\n",
    "    while len(str(start_number)) < startDigit:\n",
    "        count = count + 1\n",
    "        start_number = f(count)\n",
    "\n",
    "    last_number = start_number\n",
    "\n",
    "    while len(str(last_number)) < endDigit:\n",
    "        count = count + 1\n",
    "        last_number = f(count)\n",
    "\n",
    "    return last_number - start_number\n",
    "\n",
    "# Numbers Between Additional Digit\n",
    "# from 2 digits to 5\n",
    "#      2d, 3d, 4d, 5d\n",
    "# index 0, 1, 2, 3\n",
    "\n",
    "\n",
    "print(countNumbersBetween(3,4))"
   ]
  }
 ],
 "metadata": {
  "kernelspec": {
   "display_name": "Calculations",
   "language": "python",
   "name": "python3"
  },
  "language_info": {
   "codemirror_mode": {
    "name": "ipython",
    "version": 3
   },
   "file_extension": ".py",
   "mimetype": "text/x-python",
   "name": "python",
   "nbconvert_exporter": "python",
   "pygments_lexer": "ipython3",
   "version": "3.9.16"
  },
  "orig_nbformat": 4
 },
 "nbformat": 4,
 "nbformat_minor": 2
}
