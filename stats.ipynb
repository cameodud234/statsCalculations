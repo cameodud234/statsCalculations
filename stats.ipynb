{
 "cells": [
  {
   "cell_type": "code",
   "execution_count": 1,
   "metadata": {},
   "outputs": [],
   "source": [
    "import scipy.stats as scipyStats\n",
    "import numpy as np\n",
    "import math"
   ]
  },
  {
   "cell_type": "code",
   "execution_count": 18,
   "metadata": {},
   "outputs": [
    {
     "name": "stdout",
     "output_type": "stream",
     "text": [
      "0.541795665634675\n"
     ]
    }
   ],
   "source": [
    "#hypergeo\n",
    "N = 19\n",
    "x = 1\n",
    "k = 9\n",
    "n = 3\n",
    "\n",
    "# p(k, M, n, N) == p(x, N, k, n)\n",
    "\n",
    "total = 0\n",
    "part = -scipyStats.hypergeom.cdf(x, N, k, n) * 100\n",
    "\n",
    "print((total - part) / 100)"
   ]
  },
  {
   "cell_type": "code",
   "execution_count": 6,
   "metadata": {},
   "outputs": [
    {
     "name": "stdout",
     "output_type": "stream",
     "text": [
      "0.7458134171671\n"
     ]
    }
   ],
   "source": [
    "# bin\n",
    "x = 0\n",
    "n = 13\n",
    "p = 0.10\n",
    "\n",
    "total = 100\n",
    "part = scipyStats.binom.cdf(x, n, p) * 100\n",
    "\n",
    "print((total - part) / 100)"
   ]
  },
  {
   "cell_type": "code",
   "execution_count": 9,
   "metadata": {},
   "outputs": [
    {
     "name": "stdout",
     "output_type": "stream",
     "text": [
      "0.3711630648201266\n"
     ]
    }
   ],
   "source": [
    "# poisson\n",
    "\n",
    "x = 4\n",
    "mu = 4\n",
    "\n",
    "total = 100\n",
    "\n",
    "part = scipyStats.poisson.cdf(x, mu) * 100\n",
    "\n",
    "print((total - part) / 100)"
   ]
  },
  {
   "cell_type": "code",
   "execution_count": 97,
   "metadata": {},
   "outputs": [
    {
     "name": "stdout",
     "output_type": "stream",
     "text": [
      "3\n"
     ]
    }
   ],
   "source": [
    "i = 123\n",
    "print(len(str(i)))"
   ]
  },
  {
   "cell_type": "code",
   "execution_count": 46,
   "metadata": {},
   "outputs": [
    {
     "name": "stdout",
     "output_type": "stream",
     "text": [
      "0.01\n",
      "[5.5, 5.7]\n",
      "0.06526744977398764\n"
     ]
    }
   ],
   "source": [
    "# interval estimation of\n",
    "# population mean\n",
    "\n",
    "sample_mean = 5.6\n",
    "n = 650\n",
    "sigma = 1.3\n",
    "confidence = 0.98\n",
    "alpha = 1 - confidence\n",
    "alpha_2 = round(alpha / 2, 4)\n",
    "print(alpha_2)\n",
    "z_score = abs(round(scipyStats.norm.ppf(0.10, 0, 1), 2))\n",
    "error = z_score * (sigma/math.sqrt(n))\n",
    "L = sample_mean - error\n",
    "R = sample_mean + error\n",
    "\n",
    "# intervals = [math.floor(L) , math.ceil(R)]\n",
    "intervals = [L, R]\n",
    "\n",
    "for i in range(0, len(intervals)):\n",
    "    intervals[i] = round(intervals[i], 1)\n",
    "\n",
    "print(intervals)\n",
    "print(error)\n"
   ]
  },
  {
   "cell_type": "code",
   "execution_count": 50,
   "metadata": {},
   "outputs": [
    {
     "name": "stdout",
     "output_type": "stream",
     "text": [
      "alpha/2:  0.03\n",
      "z score:  1.96\n",
      "suggested n:  139\n"
     ]
    }
   ],
   "source": [
    "# need size of n required for error\n",
    "\n",
    "# sigma = 0.3\n",
    "\n",
    "confidence = 0.95\n",
    "error = 0.25\n",
    "\n",
    "alpha = 1 - confidence\n",
    "alpha_2 = alpha / 2\n",
    "print('alpha/2: ', round(alpha_2, 2))\n",
    "\n",
    "z_score = abs(round(scipyStats.norm.ppf(alpha_2, 0, 1), 2))\n",
    "print('z score: ', z_score)\n",
    "\n",
    "n = math.ceil(math.pow(z_score * (sigma/error), 2))\n",
    "\n",
    "print('suggested n: ', n)\n"
   ]
  },
  {
   "cell_type": "code",
   "execution_count": 34,
   "metadata": {},
   "outputs": [
    {
     "name": "stdout",
     "output_type": "stream",
     "text": [
      "sample_mean:  13.67\n",
      "sample variance:  19.47\n",
      "sample sigma:  4.412104562073146\n",
      "sigma:  1.8\n",
      "alpha_half:  0.05\n",
      "t-value:  2.02\n",
      "error:  3.63\n",
      "[10.04, 17.3]\n"
     ]
    }
   ],
   "source": [
    "# t distribution \n",
    "# confidence interval\n",
    "# n < 30 and rv is uniform\n",
    "\n",
    "numbers = [6,16,19,12,15,14]\n",
    "numbers = np.array(numbers)\n",
    "n = numbers.size\n",
    "degrees_of_freedom = n - 1\n",
    "confidence = 0.90\n",
    "\n",
    "sample_mean = numbers.mean()\n",
    "print('sample_mean: ', round(sample_mean, 2))\n",
    "\n",
    "numerator = lambda a, b: (a - b)**2\n",
    "sum = 0\n",
    "for number in numbers:\n",
    "    sum = sum + numerator(number, sample_mean)\n",
    "\n",
    "sample_variance = sum / (n - 1)\n",
    "print('sample variance: ', round(sample_variance, 2))\n",
    "sample_sigma = math.sqrt(sample_variance)\n",
    "print('sample sigma: ', sample_sigma)\n",
    "sigma = sample_sigma / math.sqrt(n)\n",
    "print('sigma: ', round(sigma, 2))\n",
    "\n",
    "#---------------------\n",
    "\n",
    "# n = 14\n",
    "# degrees_of_freedom = n - 1\n",
    "# confidence = 0.98\n",
    "\n",
    "# sample_mean = 0.360\n",
    "# sample_sigma = 0.0061\n",
    "# numerator = lambda x, y: (x - y)**2\n",
    "\n",
    "# sigma = sample_sigma / math.sqrt(n)\n",
    "\n",
    "#-----------------------\n",
    "\n",
    "alpha = 1 - confidence\n",
    "alpha_half = alpha / 2\n",
    "print('alpha_half: ', round(alpha_half, 2))\n",
    "t_value = abs(round(scipyStats.t.ppf(alpha_half, degrees_of_freedom), 4))\n",
    "print('t-value: ', round(t_value, 2))\n",
    "error = t_value * sigma\n",
    "print('error: ', round(error, 2))\n",
    "L = sample_mean - error\n",
    "R = sample_mean + error\n",
    "interval = [round(L, 2), round(R, 2)]\n",
    "print(interval)\n"
   ]
  },
  {
   "cell_type": "code",
   "execution_count": 32,
   "metadata": {},
   "outputs": [
    {
     "name": "stdout",
     "output_type": "stream",
     "text": [
      "0.9717\n"
     ]
    }
   ],
   "source": [
    "# normal\n",
    "#     z > x1 and z < x2\n",
    "\n",
    "# loc == mean\n",
    "# scale == std\n",
    "x1 = -0.78\n",
    "mean1 = 0\n",
    "std1 = 1\n",
    "\n",
    "prob1 = 1 - scipyStats.norm.cdf(x1, mean1, std1)\n",
    "\n",
    "x2 = -0.88\n",
    "mean2 = 0\n",
    "std2 = 1\n",
    "\n",
    "prob2 = scipyStats.norm.cdf(x2, mean2, std2)\n",
    "\n",
    "ans = round(prob2 + prob1, 4)\n",
    "print(ans)"
   ]
  },
  {
   "cell_type": "code",
   "execution_count": 87,
   "metadata": {},
   "outputs": [
    {
     "name": "stdout",
     "output_type": "stream",
     "text": [
      "0.0247\n"
     ]
    }
   ],
   "source": [
    "# normal\n",
    "#  z > x\n",
    "\n",
    "# loc == mean\n",
    "# scale == std\n",
    "# n = 228\n",
    "# p = 0.18\n",
    "# sigma = math.sqrt((p*(1 - p))/n)\n",
    "# x = (0.14 - p) / sigma\n",
    "\n",
    "n = 53\n",
    "sigma = 10 / math.sqrt(n)\n",
    "x = (163.7 - 161) / sigma\n",
    "\n",
    "mean = 0\n",
    "std = 1\n",
    "\n",
    "prob = 1 - scipyStats.norm.cdf(x, mean, std)\n",
    "\n",
    "print(round(prob, 4))"
   ]
  },
  {
   "cell_type": "code",
   "execution_count": 85,
   "metadata": {},
   "outputs": [
    {
     "name": "stdout",
     "output_type": "stream",
     "text": [
      "0.7483\n"
     ]
    }
   ],
   "source": [
    "# normal\n",
    "#  z < x\n",
    "\n",
    "# loc == mean\n",
    "# scale == std\n",
    "# n = 577\n",
    "# p = 0.06\n",
    "# sigma = math.sqrt((p*(1 - p))/n)\n",
    "\n",
    "n = 53\n",
    "sigma = 10 / math.sqrt(n)\n",
    "x = (38 - 16_445) / sigma\n",
    "mean = 0\n",
    "std = 1\n",
    "\n",
    "prob = scipyStats.norm.cdf(x, mean, std)\n",
    "\n",
    "print(round(prob, 4))"
   ]
  },
  {
   "cell_type": "code",
   "execution_count": 86,
   "metadata": {},
   "outputs": [
    {
     "name": "stdout",
     "output_type": "stream",
     "text": [
      "0.8326\n"
     ]
    }
   ],
   "source": [
    "# normal\n",
    "#     x1 <  z < x2\n",
    "\n",
    "# loc == mean\n",
    "# scale == std\n",
    "# n = 305\n",
    "# p = 0.06\n",
    "# sigma = math.sqrt((p*(1 - p))/n)\n",
    "\n",
    "n = 53\n",
    "dev = 10\n",
    "sigma = dev / math.sqrt(n)\n",
    "x1 = (-38) / sigma\n",
    "mean = 0\n",
    "std = 1\n",
    "\n",
    "prob1 = scipyStats.norm.cdf(x1, mean, std)\n",
    "\n",
    "x2 = (38) / sigma\n",
    "\n",
    "prob2 = scipyStats.norm.cdf(x2, mean, std)\n",
    "\n",
    "ans = round(prob2 - prob1, 4)\n",
    "print(round(ans, 4))"
   ]
  },
  {
   "cell_type": "code",
   "execution_count": 115,
   "metadata": {},
   "outputs": [
    {
     "name": "stdout",
     "output_type": "stream",
     "text": [
      "46.93877551020408\n"
     ]
    }
   ],
   "source": [
    "# MAD mean absolute difference\n",
    "\n",
    "x = [4,10,9,11,9,7, 200]\n",
    "x = np.array(x)\n",
    "mean = x.mean()\n",
    "numerator = lambda a, b : abs(a - b)\n",
    "sum = 0\n",
    "for number in x:\n",
    "    sum = sum + numerator(number, mean)\n",
    "\n",
    "print(sum/len(x))"
   ]
  },
  {
   "cell_type": "code",
   "execution_count": 7,
   "metadata": {},
   "outputs": [
    {
     "name": "stdout",
     "output_type": "stream",
     "text": [
      "mean:  7.5\n",
      "mode:  [4, 13, 10, 2]\n",
      "variance:  14.916666666666666\n",
      "standard deviation:  3.8622100754188224\n",
      "[ 2  2  4  4  5  7  9 10 10 11 13 13]\n",
      "range: 11\n",
      "0 percentile: 2\n",
      "25 percentile:  4.0\n",
      "50 percentile:  8.0\n",
      "75 percentile:  10.5\n",
      "100 percentile:  13\n"
     ]
    }
   ],
   "source": [
    "# variance population sigma\n",
    "\n",
    "x = [4,4,13,10,9,11,5,13,2,10,7,2]\n",
    "x = np.array(x)\n",
    "mean = x.mean()\n",
    "print('mean: ', mean)\n",
    "numerator = lambda a, b : abs(a - b)**2\n",
    "sum = 0\n",
    "for number in x:\n",
    "    sum = sum + numerator(number, mean)\n",
    "\n",
    "def mode(x):\n",
    "    occur = {}\n",
    "    highest_count = 1\n",
    "    for number in x:\n",
    "        if occur.get(number) == None:\n",
    "            occur[number] = 1\n",
    "        else:\n",
    "            occur[number] = occur[number] + 1\n",
    "            if highest_count < occur[number]:\n",
    "                highest_count = occur[number]\n",
    "    \n",
    "    if highest_count == 1:\n",
    "        return []\n",
    "\n",
    "    keys = occur.keys()\n",
    "    modes = []\n",
    "    for key in keys:\n",
    "        if occur[key] == highest_count:\n",
    "            modes.append(key)\n",
    "\n",
    "    return modes\n",
    "\n",
    "modes = mode(x)\n",
    "\n",
    "print('mode: ', modes)\n",
    "\n",
    "s_2 = sum/(x.size)\n",
    "print('variance: ', s_2)\n",
    "\n",
    "s = math.sqrt(s_2)\n",
    "print('standard deviation: ', s)\n",
    "\n",
    "x.sort()\n",
    "print(x)\n",
    "range = x[x.size - 1] - x[0]\n",
    "print('range:', range) \n",
    "\n",
    "def percentile(x, percent):\n",
    "    L = 0\n",
    "    R = x.size\n",
    "    if percent == 0.0:\n",
    "        return x[0]\n",
    "    elif percent == 0.25:\n",
    "        R = math.floor(x.size / 2)\n",
    "    elif percent == 0.75:\n",
    "        L = math.floor(x.size / 2)\n",
    "    elif percent == 1.0:\n",
    "        return x[x.size - 1]\n",
    "\n",
    "    mid = math.floor(L + ((R - L) / 2))\n",
    "\n",
    "    if (R - L) % 2 != 0:\n",
    "        return x[mid] \n",
    "    else:\n",
    "        return (x[mid] + x[mid-1]) / 2\n",
    "\n",
    "print('0 percentile:', percentile(x, 0.0))\n",
    "print('25 percentile: ', percentile(x, 0.25))\n",
    "print('50 percentile: ', percentile(x, 0.50))\n",
    "print('75 percentile: ', percentile(x, 0.75))\n",
    "print('100 percentile: ', percentile(x, 1.0))"
   ]
  },
  {
   "cell_type": "code",
   "execution_count": 34,
   "metadata": {},
   "outputs": [
    {
     "name": "stdout",
     "output_type": "stream",
     "text": [
      "mean:  0.58975\n",
      "variance:  0.0029854605263157897\n",
      "standard deviation:  0.05463936791651043\n",
      "[0.526 0.533 0.534 0.543 0.548 0.549 0.549 0.551 0.551 0.56  0.563 0.593\n",
      " 0.593 0.619 0.644 0.66  0.661 0.669 0.674 0.675]\n",
      "range: 0.14900000000000002\n",
      "median 0.5615\n",
      "25 percentile:  0.549\n",
      "50 percentile:  0.56\n",
      "75 percentile:  0.644\n"
     ]
    }
   ],
   "source": [
    "# variance sample s\n",
    "\n",
    "x = [0.548,0.660,0.675,0.543,0.644,0.551,0.661,0.549,0.619,0.533,0.563,0.560,0.534,0.669,0.549,0.551,0.593,0.593,0.674,0.526]\n",
    "x = np.array(x)\n",
    "mean = x.mean()\n",
    "print('mean: ', mean)\n",
    "numerator = lambda a, b : abs(a - b)**2\n",
    "sum = 0\n",
    "for number in x:\n",
    "    sum = sum + numerator(number, mean)\n",
    "\n",
    "s_2 = sum/(x.size-1)\n",
    "print('variance: ', s_2)\n",
    "\n",
    "s = math.sqrt(s_2)\n",
    "print('standard deviation: ', s)\n",
    "\n",
    "x.sort()\n",
    "print(x)\n",
    "range = x[x.size - 1] - x[0]\n",
    "print('range:', range) \n",
    "\n",
    "median = -1\n",
    "if x.size % 2 != 0:\n",
    "    index = x.size/2\n",
    "    median = math.floor(index)\n",
    "else:\n",
    "    index1 = math.floor(x.size/2)\n",
    "    index2 = math.floor(index1 - 1)\n",
    "    median = (x[index1] + x[index2]) / 2\n",
    "\n",
    "print('median', median)\n",
    "\n",
    "def percentile(x, percent):\n",
    "    L = 0\n",
    "    R = x.size - 1\n",
    "    if percent == 0.25:\n",
    "        R = math.floor(x.size / 2)\n",
    "    elif percent == 0.75:\n",
    "        L = math.floor(x.size / 2)\n",
    "\n",
    "    mid = math.floor(L + ((R - L) / 2))\n",
    "\n",
    "    if R - L % 2 != 0:\n",
    "        return x[mid]    \n",
    "    else:\n",
    "        return (x[mid] + x[mid-1]) / 2\n",
    "    \n",
    "print('25 percentile: ', percentile(x, 0.25))\n",
    "print('50 percentile: ', percentile(x, 0.50))\n",
    "print('75 percentile: ', percentile(x, 0.75))\n"
   ]
  },
  {
   "cell_type": "code",
   "execution_count": 13,
   "metadata": {},
   "outputs": [
    {
     "name": "stdout",
     "output_type": "stream",
     "text": [
      "[63.5 69.5 75.5 81.5 87.5]\n",
      "mean classes:  [63.5 69.5 75.5 81.5 87.5]\n",
      "mean dataset: : 75.21428571428571\n",
      "mode:  [array([61, 66])]\n",
      "variance:  848.9142857142857\n",
      "standard deviation:  29.13613367820593\n",
      "range:  29\n"
     ]
    }
   ],
   "source": [
    "\n",
    "# variance population sigma\n",
    "# for specifically \n",
    "\n",
    "classes = [[61,66],[67, 72],[73, 78],[79, 84],[85,90]]\n",
    "frequency = [14, 5, 5, 5, 13]\n",
    "\n",
    "classes = np.array(classes)\n",
    "frequency = np.array(frequency)\n",
    "\n",
    "mean_classes = []\n",
    "\n",
    "for some_class in classes:\n",
    "    mean_classes.append(some_class.mean())\n",
    "\n",
    "mean_classes = np.array(mean_classes)\n",
    "\n",
    "print(mean_classes)\n",
    "\n",
    "print('mean classes: ', mean_classes)\n",
    "\n",
    "sum_frequency = frequency.sum()\n",
    "mean_dataset = mean_classes.dot(frequency) / sum_frequency\n",
    "\n",
    "print('mean dataset: :', mean_dataset)\n",
    "\n",
    "def mode(freq, b):\n",
    "\n",
    "    max_frequency = freq.max()\n",
    "    if max_frequency == 1:\n",
    "        return []\n",
    "    modes = []\n",
    "\n",
    "    b_size = b.shape\n",
    "\n",
    "    i = 0\n",
    "    while(i < b_size[0]):\n",
    "        if freq[i] == max_frequency:\n",
    "            modes.append(b[i])\n",
    "        i = i + 1\n",
    "    \n",
    "    #     if frequency[i] == max_frequency:\n",
    "    #         modes.append()\n",
    "\n",
    "    return modes\n",
    "\n",
    "modes = mode(frequency, classes)\n",
    "\n",
    "print('mode: ', modes)\n",
    "\n",
    "sum = 0\n",
    "\n",
    "numerator = lambda a,b,c : (a - b)**2 * c\n",
    "\n",
    "for i,j in zip(mean_classes, frequency):\n",
    "    sum = sum + numerator(i, mean_dataset, j)\n",
    "\n",
    "s_2 = sum/(mean_classes.size)\n",
    "print('variance: ', s_2)\n",
    "\n",
    "s = math.sqrt(s_2)\n",
    "print('standard deviation: ', s)\n",
    "\n",
    "class_size = classes.shape\n",
    "\n",
    "range = classes[class_size[0]-1][class_size[1]-1] - classes[0][0] \n",
    "print('range: ', range)"
   ]
  },
  {
   "cell_type": "code",
   "execution_count": 90,
   "metadata": {},
   "outputs": [
    {
     "name": "stdout",
     "output_type": "stream",
     "text": [
      "[63.5 69.5 75.5 81.5 87.5]\n",
      "mean classes:  [63.5 69.5 75.5 81.5 87.5]\n",
      "mean dataset: : 75.21428571428571\n",
      "mode:  [array([61, 66])]\n",
      "variance:  848.9142857142857\n",
      "standard deviation:  29.13613367820593\n",
      "range:  29\n"
     ]
    }
   ],
   "source": [
    "classes = [[61,66],[67, 72],[73, 78],[79, 84],[85,90]]\n",
    "frequency = [14, 5, 5, 5, 13]\n",
    "\n",
    "classes = np.array(classes)\n",
    "frequency = np.array(frequency)\n",
    "\n",
    "mean_classes = []\n",
    "\n",
    "for some_class in classes:\n",
    "    mean_classes.append(some_class.mean())\n",
    "\n",
    "mean_classes = np.array(mean_classes)\n",
    "\n",
    "print(mean_classes)\n",
    "\n",
    "print('mean classes: ', mean_classes)\n",
    "\n",
    "sum_frequency = frequency.sum()\n",
    "mean_dataset = mean_classes.dot(frequency) / sum_frequency\n",
    "\n",
    "print('mean dataset: :', mean_dataset)\n",
    "\n",
    "def mode(freq, b):\n",
    "\n",
    "    max_frequency = freq.max()\n",
    "    if max_frequency == 1:\n",
    "        return []\n",
    "    modes = []\n",
    "\n",
    "    b_size = b.shape\n",
    "\n",
    "    i = 0\n",
    "    while(i < b_size[0]):\n",
    "        if freq[i] == max_frequency:\n",
    "            modes.append(b[i])\n",
    "        i = i + 1\n",
    "    \n",
    "    #     if frequency[i] == max_frequency:\n",
    "    #         modes.append()\n",
    "\n",
    "    return modes\n",
    "\n",
    "modes = mode(frequency, classes)\n",
    "\n",
    "print('mode: ', modes)\n",
    "\n",
    "sum = 0\n",
    "\n",
    "numerator = lambda a,b,c : (a - b)**2 * c\n",
    "\n",
    "for i,j in zip(mean_classes, frequency):\n",
    "    sum = sum + numerator(i, mean_dataset, j)\n",
    "\n",
    "s_2 = sum/(mean_classes.size)\n",
    "print('variance: ', s_2)\n",
    "\n",
    "s = math.sqrt(s_2)\n",
    "print('standard deviation: ', s)\n",
    "\n",
    "class_size = classes.shape\n",
    "\n",
    "range = classes[class_size[0]-1][class_size[1]-1] - classes[0][0] \n",
    "print('range: ', range)"
   ]
  },
  {
   "cell_type": "code",
   "execution_count": 91,
   "metadata": {},
   "outputs": [
    {
     "name": "stdout",
     "output_type": "stream",
     "text": [
      "2.4099999999999966\n"
     ]
    }
   ],
   "source": [
    "\n",
    "\n",
    "x = [3, 4, 5, 6, 7, 8]\n",
    "probs = [0.1, 0.1, 0.3, 0.2, 0.1, 0.2]\n",
    "\n",
    "x = np.array(x)\n",
    "probs = np.array(probs)\n",
    "\n",
    "x_2 = x * x\n",
    "\n",
    "var = x_2.dot(probs) - (x.dot(probs)**2)\n",
    "print(var)\n",
    "# print(math.sqrt(var))"
   ]
  },
  {
   "cell_type": "code",
   "execution_count": 92,
   "metadata": {},
   "outputs": [
    {
     "name": "stdout",
     "output_type": "stream",
     "text": [
      "1468687500.0\n",
      "873960000.0\n"
     ]
    }
   ],
   "source": [
    "x1 = [-5000, 50000, 80000]\n",
    "probs1 = [0.63, 0.09, 0.28]\n",
    "\n",
    "x1 = np.array(x1)\n",
    "probs1 = np.array(probs1)\n",
    "x_2_1 = x1 * x1\n",
    "\n",
    "# print(x1.dot(probs1))\n",
    "\n",
    "x2 = [-25000, 35000, 40000]\n",
    "probs2 = [0.35, 0.41, 0.24]\n",
    "\n",
    "x2 = np.array(x2)\n",
    "probs2 = np.array(probs2)\n",
    "x_2_2 = x2 * x2\n",
    "\n",
    "# print(x2.dot(probs2))\n",
    "var1 = x_2_1.dot(probs1) - (x1.dot(probs1)**2)\n",
    "var2 = x_2_2.dot(probs2) - (x2.dot(probs2)**2)\n",
    "print(var1)\n",
    "print(var2)"
   ]
  },
  {
   "cell_type": "code",
   "execution_count": 93,
   "metadata": {},
   "outputs": [
    {
     "ename": "TypeError",
     "evalue": "'numpy.int64' object is not callable",
     "output_type": "error",
     "traceback": [
      "\u001b[0;31m---------------------------------------------------------------------------\u001b[0m",
      "\u001b[0;31mTypeError\u001b[0m                                 Traceback (most recent call last)",
      "Cell \u001b[0;32mIn[93], line 27\u001b[0m\n\u001b[1;32m     22\u001b[0m \u001b[39m# Numbers Between Additional Digit\u001b[39;00m\n\u001b[1;32m     23\u001b[0m \u001b[39m# from 2 digits to 5\u001b[39;00m\n\u001b[1;32m     24\u001b[0m \u001b[39m#      2d, 3d, 4d, 5d\u001b[39;00m\n\u001b[1;32m     25\u001b[0m \u001b[39m# index 0, 1, 2, 3\u001b[39;00m\n\u001b[1;32m     26\u001b[0m sizeDiffDist \u001b[39m=\u001b[39m {}\n\u001b[0;32m---> 27\u001b[0m \u001b[39mfor\u001b[39;00m i \u001b[39min\u001b[39;00m \u001b[39mrange\u001b[39;49m(\u001b[39m2\u001b[39;49m, \u001b[39m11\u001b[39;49m):\n\u001b[1;32m     28\u001b[0m     sizeDiffDist[countNumbersBetween(i, i\u001b[39m+\u001b[39m\u001b[39m1\u001b[39m)] \u001b[39m=\u001b[39m [i, i\u001b[39m+\u001b[39m\u001b[39m1\u001b[39m]\n\u001b[1;32m     30\u001b[0m \u001b[39m# sizeDiffBetweenDigitCount = np.array()\u001b[39;00m\n",
      "\u001b[0;31mTypeError\u001b[0m: 'numpy.int64' object is not callable"
     ]
    }
   ],
   "source": [
    "def f(x):\n",
    "    return 81 * x\n",
    "\n",
    "def countNumbersBetween(startDigit, endDigit):\n",
    "    count = 1\n",
    "    number = f(count)\n",
    "    start_number = number\n",
    "    last_number = number\n",
    "\n",
    "    while len(str(start_number)) < startDigit:\n",
    "        count = count + 1\n",
    "        start_number = f(count)\n",
    "\n",
    "    last_number = start_number\n",
    "\n",
    "    while len(str(last_number)) < endDigit:\n",
    "        count = count + 1\n",
    "        last_number = f(count)\n",
    "\n",
    "    return last_number - start_number\n",
    "\n",
    "# Numbers Between Additional Digit\n",
    "# from 2 digits to 5\n",
    "#      2d, 3d, 4d, 5d\n",
    "# index 0, 1, 2, 3\n",
    "sizeDiffDist = {}\n",
    "for i in range(2, 11):\n",
    "    sizeDiffDist[countNumbersBetween(i, i+1)] = [i, i+1]\n",
    "\n",
    "# sizeDiffBetweenDigitCount = np.array()\n",
    "\n",
    "print(sizeDiffDist)"
   ]
  },
  {
   "cell_type": "code",
   "execution_count": null,
   "metadata": {},
   "outputs": [
    {
     "name": "stdout",
     "output_type": "stream",
     "text": [
      "{81.0: [2, 3], 891.0: [3, 4], 8991.0: [4, 5], 89991.0: [5, 6], 899991.0: [6, 7], 8999991.0: [7, 8], 89999991.0: [8, 9], 900000072.0: [9, 10], 8999999991.0: [10, 11], 89999999991.0: [11, 12], 899999999991.0: [12, 13], 8999999999991.0: [13, 14], 89999999999991.0: [14, 15], 899999999999991.0: [15, 16], 8999999999999990.0: [16, 17], 8.999999999999998e+16: [17, 18], 9.000000000000001e+17: [18, 19], 9e+18: [19, 20]}\n"
     ]
    }
   ],
   "source": [
    "def f(x):\n",
    "    return 81 * x\n",
    "\n",
    "def countNumbersBetween(startDigit, endDigit):\n",
    "    count = 1\n",
    "    number = f(count)\n",
    "    start_number = ((math.pow(10, startDigit - 1) // f(1)) + 1) * f(1)\n",
    "    last_number = ((math.pow(10, endDigit - 1) // f(1)) + 1) * f(1)\n",
    "    return last_number - start_number\n",
    "\n",
    "# Numbers Between Additional Digit\n",
    "# from 2 digits to 5\n",
    "#      2d, 3d, 4d, 5d\n",
    "# index 0, 1, 2, 3\n",
    "sizeDiffDist = {}\n",
    "for i in range(2, 20):\n",
    "    sizeDiffDist[countNumbersBetween(i, i+1)] = [i, i+1]\n",
    "\n",
    "# sizeDiffBetweenDigitCount = np.array()\n",
    "\n",
    "print(sizeDiffDist)"
   ]
  },
  {
   "cell_type": "code",
   "execution_count": null,
   "metadata": {},
   "outputs": [
    {
     "name": "stdout",
     "output_type": "stream",
     "text": [
      "[ 3  5  7  8  9 10]\n",
      "7.0\n"
     ]
    }
   ],
   "source": [
    "x = [8,9,10,5,3,7]\n",
    "x = np.array(x)\n",
    "x.sort()\n",
    "print(x)\n",
    "print(x.mean())"
   ]
  }
 ],
 "metadata": {
  "kernelspec": {
   "display_name": "Calculations",
   "language": "python",
   "name": "python3"
  },
  "language_info": {
   "codemirror_mode": {
    "name": "ipython",
    "version": 3
   },
   "file_extension": ".py",
   "mimetype": "text/x-python",
   "name": "python",
   "nbconvert_exporter": "python",
   "pygments_lexer": "ipython3",
   "version": "3.9.16"
  },
  "orig_nbformat": 4
 },
 "nbformat": 4,
 "nbformat_minor": 2
}
